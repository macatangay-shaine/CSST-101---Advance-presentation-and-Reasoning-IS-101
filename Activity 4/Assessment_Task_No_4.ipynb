{
  "cells": [
    {
      "cell_type": "code",
      "source": [
        "# Belief Revision Simulation\n",
        "# Objective: Demonstrate non-monotonic reasoning\n",
        "# Rule: If an animal is a bird, assume it can fly.\n",
        "# Known exceptions: penguin, ostrich, kiwi, dodo\n",
        "\n",
        "def main():\n",
        "    # Step 1: Ask for user input\n",
        "    animal = input(\"Input an animal: \").strip().lower()\n",
        "\n",
        "    # Step 2: Initialize knowledge base\n",
        "    birds = [\"penguin\", \"ostrich\", \"kiwi\", \"dodo\", \"sparrow\", \"eagle\", \"parrot\", \"crow\", \"dove\"]\n",
        "    exceptions = [\"penguin\", \"ostrich\", \"kiwi\", \"dodo\"]\n",
        "\n",
        "    print(\"\\nReasoning:\")\n",
        "\n",
        "    # Step 3: Check if animal is a bird\n",
        "    if animal in birds:\n",
        "        print(f\"{animal.capitalize()}s are birds.\")\n",
        "        # Default assumption\n",
        "        can_fly = True\n",
        "\n",
        "        # Step 4: Revise if it’s an exception\n",
        "        if animal in exceptions:\n",
        "            print(f\"However, {animal}s do not fly.\")\n",
        "            can_fly = False\n",
        "    else:\n",
        "        print(f\"{animal.capitalize()} is not identified as a bird.\")\n",
        "        can_fly = None\n",
        "\n",
        "    # Step 5: Print conclusion\n",
        "    print(\"\\nConclusion:\")\n",
        "    if can_fly is True:\n",
        "        print(f\"{animal}s can fly.\")\n",
        "    elif can_fly is False:\n",
        "        print(f\"{animal}s cannot fly.\")\n",
        "    else:\n",
        "        print(f\"No conclusion can be made about {animal}’s ability to fly.\")\n",
        "\n",
        "\n",
        "# Run the reasoning program\n",
        "if __name__ == \"__main__\":\n",
        "    main()\n"
      ],
      "metadata": {
        "id": "eECUEK9Qmgi6",
        "colab": {
          "base_uri": "https://localhost:8080/"
        },
        "outputId": "2d292190-913f-4b18-d34c-182ff9713f12"
      },
      "execution_count": 2,
      "outputs": [
        {
          "output_type": "stream",
          "name": "stdout",
          "text": [
            "Input an animal: cat\n",
            "\n",
            "Reasoning:\n",
            "Cat is not identified as a bird.\n",
            "\n",
            "Conclusion:\n",
            "No conclusion can be made about cat’s ability to fly.\n"
          ]
        }
      ]
    }
  ],
  "metadata": {
    "colab": {
      "toc_visible": true,
      "provenance": []
    },
    "kernelspec": {
      "display_name": "Python 3",
      "name": "python3"
    }
  },
  "nbformat": 4,
  "nbformat_minor": 0
}